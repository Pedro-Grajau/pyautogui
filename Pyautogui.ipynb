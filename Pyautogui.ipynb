{
 "cells": [
  {
   "cell_type": "markdown",
   "id": "8fe95825-3052-42b5-a586-3510a19d74b3",
   "metadata": {},
   "source": [
    "## Automação de Sistemas e Processos com Python"
   ]
  },
  {
   "cell_type": "markdown",
   "id": "f0d0aaca-3122-42b2-a129-e5cd9d07adf2",
   "metadata": {},
   "source": [
    "Desafio:\n",
    "Todos os dias, o nosso sistema atualiza as vendas do dia anterior. O seu trabalho diário, como analista, é enviar um e-mail para a diretoria, assim que começar a trabalhar, com o faturamento e a quantidade de produtos vendidos no dia anterior\n",
    "\n",
    "E-mail da diretoria: seugmail+diretoria@gmail.com\n",
    "Local onde o sistema disponibiliza as vendas do dia anterior: https://drive.google.com/drive/folders/1mhXZ3JPAnekXP_4vX7Z_sJj35VWqayaR?usp=sharing\n",
    "\n",
    "Para resolver isso, vamos usar o pyautogui, uma biblioteca de automação de comandos do mouse e do teclado"
   ]
  },
  {
   "cell_type": "code",
   "execution_count": null,
   "id": "4acb6602-d058-4cc2-a0e0-249f83aa80a7",
   "metadata": {},
   "outputs": [],
   "source": [
    "import pyautogui\n",
    "import time\n",
    "import pyperclip\n",
    "\n",
    "pyautogui.PAUSE = 1\n",
    "pyautogui.alert(\"Vai começar, aperte OK e não mexa em nada\")\n",
    "\n",
    "#Abrir nova aba do navegador\n",
    "pyautogui.hotkey('ctrl', 't')\n",
    "\n",
    "#Abrir o documento dentro do google drive\n",
    "link = \"https://drive.google.com/drive/folders/149xknr9JvrlEnhNWO49zPcw0PW5icxga?usp=sharing\"\n",
    "pyperclip.copy(link)\n",
    "pyautogui.hotkey(\"ctrl\", \"v\")\n",
    "pyautogui.press(\"enter\")\n",
    "time.sleep(7)\n",
    "\n",
    "# baixar base de dados atualizada\n",
    "pyautogui.click(414, 271, clicks=2)\n",
    "time.sleep(2)\n",
    "pyautogui.click(407, 353)\n",
    "pyautogui.click(1163, 153)\n",
    "pyautogui.click(1052, 599)\n",
    "time.sleep(10)"
   ]
  },
  {
   "cell_type": "markdown",
   "id": "1a340711-dd0c-45a4-8c81-f9fab1726c76",
   "metadata": {},
   "source": [
    "### Vamos agora ler o arquivo baixado para pegar os indicadores\n",
    "- Faturamento\n",
    "- Quantidade de Produtos"
   ]
  },
  {
   "cell_type": "code",
   "execution_count": null,
   "id": "e47dacc0-fe52-446e-9ae9-fd4bd77b0bf8",
   "metadata": {},
   "outputs": [],
   "source": [
    "import pandas as pd\n",
    "\n",
    "df = pd.read_excel(\"Vendas - Dez.xlsx\")\n",
    "display(df)\n",
    "faturamento = df['Valor Final'].sum()\n",
    "qtde_produtos = df['Quantidade'].sum()"
   ]
  },
  {
   "cell_type": "markdown",
   "id": "555ebf15-2ec8-4e82-a70e-35f58557ab04",
   "metadata": {},
   "source": [
    "### Agora Disparar um email pelo gmail"
   ]
  },
  {
   "cell_type": "code",
   "execution_count": null,
   "id": "e34b4ff0-ce31-4208-8738-cd7f5840ebdd",
   "metadata": {},
   "outputs": [],
   "source": [
    "import pyperclip\n",
    "\n",
    "# abrir aba gmail\n",
    "pyautogui.hotkey('ctrl', 't')\n",
    "pyautogui.write(\"mail.google.com\")\n",
    "pyautogui.press('enter')\n",
    "time.sleep(5)\n",
    "\n",
    "# clicar em escrever email\n",
    "pyautogui.click(133, 183)\n",
    "\n",
    "# preencher informações do e-mail\n",
    "pyautogui.write('pythonimpressionador+diretoria@gmail.com')\n",
    "pyautogui.press('tab')\n",
    "pyautogui.press('tab')\n",
    "assunto = \"Relatório de Vendas de Ontem\"\n",
    "pyperclip.copy(assunto)\n",
    "pyautogui.hotkey(\"ctrl\", 'v')\n",
    "pyautogui.press(\"tab\")\n",
    "texto = f\"\"\"\n",
    "Prezados, bom dia\n",
    "\n",
    "O faturamento de ontem foi de: R${faturamento:,.2f}\n",
    "A quantidade de produtos foi de: {qtde_produtos:,}\n",
    "\n",
    "Abs\n",
    "PedroLucas\"\"\"\n",
    "pyperclip.copy(texto)\n",
    "pyautogui.hotkey(\"ctrl\", 'v')\n",
    "\n",
    "# enviar e-mail\n",
    "pyautogui.hotkey('ctrl', 'enter')\n",
    "\n",
    "# avisar que acabou\n",
    "pyautogui.alert(\"Fim da Automação. Seu computador já voltou a ser seu\")"
   ]
  }
 ],
 "metadata": {
  "kernelspec": {
   "display_name": "Python 3",
   "language": "python",
   "name": "python3"
  },
  "language_info": {
   "codemirror_mode": {
    "name": "ipython",
    "version": 3
   },
   "file_extension": ".py",
   "mimetype": "text/x-python",
   "name": "python",
   "nbconvert_exporter": "python",
   "pygments_lexer": "ipython3",
   "version": "3.9.4"
  }
 },
 "nbformat": 4,
 "nbformat_minor": 5
}
